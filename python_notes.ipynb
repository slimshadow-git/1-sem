{
  "cells": [
    {
      "cell_type": "markdown",
      "metadata": {
        "id": "view-in-github",
        "colab_type": "text"
      },
      "source": [
        "<a href=\"https://colab.research.google.com/github/slimshadow-git/1-sem/blob/main/python_notes.ipynb\" target=\"_parent\"><img src=\"https://colab.research.google.com/assets/colab-badge.svg\" alt=\"Open In Colab\"/></a>"
      ]
    },
    {
      "cell_type": "markdown",
      "source": [
        "**Here are 5 different Python code snippets to add 3 numbers:**\n",
        "\n",
        "**1. Basic Addition:**"
      ],
      "metadata": {
        "id": "FnpNO7orkfke"
      }
    },
    {
      "cell_type": "code",
      "source": [
        "num1 = 10\n",
        "num2 = 20\n",
        "num3 = 30\n",
        "\n",
        "sum = num1 + num2 + num3\n",
        "\n",
        "print(\"Sum:\", sum)"
      ],
      "outputs": [],
      "execution_count": null,
      "metadata": {
        "id": "ZoQIP4f-kfkf"
      }
    },
    {
      "cell_type": "markdown",
      "source": [
        "**2. Using the `sum()` function:**"
      ],
      "metadata": {
        "id": "Ia-DTj7lkfkg"
      }
    },
    {
      "cell_type": "code",
      "source": [
        "numbers = [10, 20, 30]\n",
        "sum_of_numbers = sum(numbers)\n",
        "\n",
        "print(\"Sum:\", sum_of_numbers)"
      ],
      "outputs": [],
      "execution_count": null,
      "metadata": {
        "id": "sP22uYuGkfkg"
      }
    },
    {
      "cell_type": "markdown",
      "source": [
        "**3. Using a loop:**"
      ],
      "metadata": {
        "id": "25o7RRazkfkh"
      }
    },
    {
      "cell_type": "code",
      "source": [
        "numbers = [10, 20, 30]\n",
        "total = 0\n",
        "\n",
        "for num in numbers:\n",
        "    total += num\n",
        "\n",
        "print(\"Sum:\", total)"
      ],
      "outputs": [],
      "execution_count": null,
      "metadata": {
        "id": "f30wq0j3kfkh"
      }
    },
    {
      "cell_type": "markdown",
      "source": [
        "**4. Using a function:**"
      ],
      "metadata": {
        "id": "mUYsFKS0kfkh"
      }
    },
    {
      "cell_type": "code",
      "source": [
        "def add_numbers(num1, num2, num3):\n",
        "    return num1 + num2 + num3\n",
        "\n",
        "result = add_numbers(10, 20, 30)\n",
        "\n",
        "print(\"Sum:\", result)"
      ],
      "outputs": [],
      "execution_count": null,
      "metadata": {
        "id": "dalUe5Mxkfki"
      }
    },
    {
      "cell_type": "markdown",
      "source": [
        "**5. Using input from the user:**"
      ],
      "metadata": {
        "id": "3PID8jTBkfki"
      }
    },
    {
      "cell_type": "code",
      "source": [
        "num1 = int(input(\"Enter the first number: \"))\n",
        "num2 = int(input(\"Enter the second number: \"))\n",
        "num3 = int(input(\"Enter the third number: \"))\n",
        "\n",
        "sum = num1 + num2 + num3\n",
        "\n",
        "print(\"Sum:\", sum)"
      ],
      "outputs": [],
      "execution_count": null,
      "metadata": {
        "id": "Tt94OfBckfkk"
      }
    },
    {
      "cell_type": "markdown",
      "source": [
        "Each method provides a different approach to the same problem, demonstrating the versatility of Python. The choice of method often depends on the specific use case and the desired level of complexity."
      ],
      "metadata": {
        "id": "LZ059bwokfkk"
      }
    },
    {
      "cell_type": "markdown",
      "source": [
        "<div class=\"md-recitation\">\n",
        "  Sources\n",
        "  <ol>\n",
        "  <li><a href=\"https://github.com/Yogeshattri07/Practice-150-examples-Python-\">https://github.com/Yogeshattri07/Practice-150-examples-Python-</a></li>\n",
        "  </ol>\n",
        "</div>"
      ],
      "metadata": {
        "id": "5YftvdD0kfkk"
      }
    }
  ],
  "metadata": {
    "colab": {
      "provenance": [],
      "include_colab_link": true
    },
    "kernelspec": {
      "display_name": "Python 3",
      "name": "python3"
    }
  },
  "nbformat": 4,
  "nbformat_minor": 0
}